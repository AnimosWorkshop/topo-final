{
 "cells": [
  {
   "cell_type": "code",
   "id": "initial_id",
   "metadata": {
    "collapsed": true,
    "ExecuteTime": {
     "end_time": "2025-08-14T21:17:06.997031Z",
     "start_time": "2025-08-14T21:17:06.749150Z"
    }
   },
   "source": [
    "import numpy as np\n",
    "import matplotlib\n",
    "matplotlib.use('TkAgg')\n",
    "import matplotlib.pyplot as plt\n",
    "from matplotlib import cm"
   ],
   "outputs": [],
   "execution_count": 2
  },
  {
   "metadata": {
    "ExecuteTime": {
     "end_time": "2025-08-14T21:17:07.012797Z",
     "start_time": "2025-08-14T21:17:07.004231Z"
    }
   },
   "cell_type": "code",
   "source": [
    "# Matrix preparation auxiliary functions\n",
    "\n",
    "def prep_diags(N, d):\n",
    "    # This performs the delta(x-x'+da) operation for the matrix\n",
    "    if d == 0:\n",
    "        return np.eye(N, dtype=complex)\n",
    "    else:\n",
    "        mat = np.zeros((N, N), dtype=complex)\n",
    "        if d == 1:\n",
    "            for i in range(N - 1):\n",
    "                mat[i + 1][i] = 1\n",
    "        else: # d == - 1\n",
    "            for i in range(N - 1):\n",
    "                mat[i][i + 1] = 1\n",
    "        return mat\n",
    "\n",
    "def mat2hext(mat, q):\n",
    "    N = mat.shape[0]\n",
    "    board = np.zeros((4 * N, 4 * N), dtype=complex)\n",
    "    board[((q // 4) * N):((q // 4 + 1) * N), ((q % 4) * N):((q % 4 + 1) * N)] = mat\n",
    "    return board\n",
    "\n",
    "def dot_pauli(mat, pauli_idxs):\n",
    "    board = np.zeros((4 * mat.shape[0], 4 * mat.shape[0]), dtype=complex)\n",
    "    if pauli_idxs == 'x, 1':\n",
    "        board += mat2hext(mat, 2) + mat2hext(mat, 7) + mat2hext(mat, 8) + mat2hext(mat, 13)\n",
    "    elif pauli_idxs == 'z, 1':\n",
    "        board += mat2hext(mat, 0) + mat2hext(mat, 5) - mat2hext(mat, 10) - mat2hext(mat, 15)\n",
    "    elif pauli_idxs == 'z, x':\n",
    "        board += mat2hext(mat, 1) + mat2hext(mat, 4) - mat2hext(mat, 11) - mat2hext(mat, 14)\n",
    "    elif pauli_idxs == 'z, y':\n",
    "        board += -1j * mat2hext(mat, 1) + 1j * mat2hext(mat, 4) + 1j * mat2hext(mat, 11) - 1j * mat2hext(mat, 14)\n",
    "    return np.matrix(board)\n",
    "\n",
    "def fourier_ham(N, b, M, ky, t):\n",
    "    return b * np.sin(ky) * dot_pauli(prep_diags(N, 0), 'z, x') + \\\n",
    "           b * (-1 / 2j) * dot_pauli(prep_diags(N, 1) - prep_diags(N, -1), 'z, y') + \\\n",
    "           dot_pauli((M - 2 * t * np.cos(ky)) * prep_diags(N, 0) - t * (prep_diags(N, 1) + prep_diags(N, -1)), 'x, 1')\n"
   ],
   "id": "f2186dd1d5acd7d6",
   "outputs": [],
   "execution_count": 3
  },
  {
   "metadata": {
    "ExecuteTime": {
     "end_time": "2025-08-14T21:54:56.124746Z",
     "start_time": "2025-08-14T21:50:19.327068Z"
    }
   },
   "cell_type": "code",
   "source": [
    "# Predef\n",
    "\n",
    "M = 2\n",
    "N = 40\n",
    "ks = np.linspace(-np.pi, np.pi, N, endpoint=False)\n",
    "\n",
    "eigvls = np.zeros((len(ks), 4 * N), dtype=complex)\n",
    "eigvs = np.zeros((len(ks), 4 * N, 4 * N), dtype=complex)\n",
    "\n",
    "for iy, ky in enumerate(ks):\n",
    "    hamiltonian = fourier_ham(N, 1, M, ky, 1)\n",
    "    # According to documentation, the eigenvectors are sorted by eigenvalue, so the last one is the + band vector\n",
    "    eigvls[iy, :], cur_eigvs = np.linalg.eigh(hamiltonian)\n",
    "    eigvs[iy, :, :] = cur_eigvs\n",
    "\n",
    "for band in range(4 * N):\n",
    "    print(eigvls[:, band])\n",
    "    plt.plot(ks, eigvls[:, band])\n",
    "plt.title(f\"Band Structure for M=2t\")\n",
    "plt.ylabel(\"Energy [arb. units]\")\n",
    "plt.xlabel(\"ky\")\n",
    "plt.show()"
   ],
   "id": "648f34ac767c9c83",
   "outputs": [],
   "execution_count": 41
  },
  {
   "metadata": {
    "ExecuteTime": {
     "end_time": "2025-08-14T22:03:39.024288Z",
     "start_time": "2025-08-14T22:03:37.402879Z"
    }
   },
   "cell_type": "code",
   "source": [
    "X, Y = np.meshgrid(np.arange(0, N, 1), ks)\n",
    "\n",
    "fig, axs = plt.subplots(2, 2, subplot_kw={\"projection\": \"3d\"})\n",
    "fig.suptitle(f\"Eigenfunctions for M={M}\")\n",
    "\n",
    "surf = axs[0, 0].plot_surface(X, Y, np.abs(eigvs[:, :N, 2*N-1]), cmap=cm.coolwarm,\n",
    "                       linewidth=0, antialiased=False)\n",
    "axs[0, 0].set_xlabel('x (site)')\n",
    "axs[0, 0].set_ylabel('ky')\n",
    "axs[0, 0].title.set_text('Sublattice A, spin up')\n",
    "\n",
    "surf = axs[0, 1].plot_surface(X, Y, np.abs(eigvs[:, N:2*N, 2*N-1]), cmap=cm.coolwarm,\n",
    "                       linewidth=0, antialiased=False)\n",
    "axs[0, 1].set_xlabel('x (site)')\n",
    "axs[0, 1].set_ylabel('ky')\n",
    "axs[0, 1].title.set_text('Sublattice A, spin down')\n",
    "\n",
    "surf = axs[1, 0].plot_surface(X, Y, np.abs(eigvs[:, 2*N:3*N, 2*N-1]), cmap=cm.coolwarm,\n",
    "                       linewidth=0, antialiased=False)\n",
    "axs[1, 0].set_xlabel('x (site)')\n",
    "axs[1, 0].set_ylabel('ky')\n",
    "axs[1, 0].title.set_text(f\"Sublattice B, spin up\")\n",
    "\n",
    "surf = axs[1, 1].plot_surface(X, Y, np.abs(eigvs[:, 3*N:, 2*N-1]), cmap=cm.coolwarm,\n",
    "                       linewidth=0, antialiased=False)\n",
    "axs[1, 1].set_xlabel('x (site)')\n",
    "axs[1, 1].set_ylabel('ky')\n",
    "axs[1, 1].title.set_text(f\"Sublattice B, spin down\")\n",
    "\n",
    "plt.show()"
   ],
   "id": "6ef81c4e6e339a1a",
   "outputs": [],
   "execution_count": 42
  }
 ],
 "metadata": {
  "kernelspec": {
   "display_name": "Python 3",
   "language": "python",
   "name": "python3"
  },
  "language_info": {
   "codemirror_mode": {
    "name": "ipython",
    "version": 2
   },
   "file_extension": ".py",
   "mimetype": "text/x-python",
   "name": "python",
   "nbconvert_exporter": "python",
   "pygments_lexer": "ipython2",
   "version": "2.7.6"
  }
 },
 "nbformat": 4,
 "nbformat_minor": 5
}
